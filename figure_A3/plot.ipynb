{
 "cells": [
  {
   "cell_type": "code",
   "execution_count": 1,
   "metadata": {},
   "outputs": [],
   "source": [
    "%matplotlib inline\n",
    "\n",
    "import pandas as pd\n",
    "import matplotlib.pyplot as plt\n",
    "import numpy as np"
   ]
  },
  {
   "cell_type": "code",
   "execution_count": 33,
   "metadata": {},
   "outputs": [
    {
     "name": "stdout",
     "output_type": "stream",
     "text": [
      "      method     accuracy         time\n",
      "model        trend_filter trend_filter\n",
      "5        OMP   0.86(0.03)   1.77(0.57)\n",
      "3        IHT    0.08(0.0)   0.76(0.28)\n",
      "2        HTP   0.47(0.03)   0.71(0.23)\n",
      "1      GraSP   0.78(0.12)   0.95(0.38)\n",
      "0       FoBa     1.0(0.0)   8.27(1.66)\n",
      "6      SCOPE   0.98(0.02)   4.73(1.13)\n",
      "4      LASSO   0.21(0.04)  19.75(9.57)\n"
     ]
    }
   ],
   "source": [
    "df = pd.read_csv(\"A3_skscope.csv\")\n",
    "df.groupby(['method', 'model'])[[\"accuracy\", \"time\"]].agg(\n",
    "    lambda x: str(x.mean().round(2)) + \"(\" + str(x.std().round(2)) + \")\"\n",
    ").unstack().reset_index()"
   ]
  },
  {
   "cell_type": "code",
   "execution_count": 42,
   "metadata": {},
   "outputs": [
    {
     "name": "stdout",
     "output_type": "stream",
     "text": [
      "                0              1           2              3\n",
      "model      linear         linear  non_linear     non_linear\n",
      "level_1  accuracy           time    accuracy           time\n",
      "0        1.0(0.0)  1009.94(0.66)  0.79(0.08)  1003.88(1.53)\n"
     ]
    }
   ],
   "source": [
    "df = pd.read_csv(\"A3_gurobi.csv\")\n",
    "print(df.groupby(['model'])[[\"accuracy\", \"time\"]].agg(\n",
    "    lambda x: str(x.mean().round(2)) + \"(\" + str(x.std().round(2)) + \")\"\n",
    ").stack().reset_index().transpose())"
   ]
  }
 ],
 "metadata": {
  "kernelspec": {
   "display_name": "scope",
   "language": "python",
   "name": "python3"
  },
  "language_info": {
   "codemirror_mode": {
    "name": "ipython",
    "version": 3
   },
   "file_extension": ".py",
   "mimetype": "text/x-python",
   "name": "python",
   "nbconvert_exporter": "python",
   "pygments_lexer": "ipython3",
   "version": "3.10.9"
  },
  "orig_nbformat": 4
 },
 "nbformat": 4,
 "nbformat_minor": 2
}
